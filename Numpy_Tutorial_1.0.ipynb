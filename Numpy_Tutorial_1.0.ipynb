{
 "cells": [
  {
   "cell_type": "code",
   "execution_count": 3,
   "metadata": {},
   "outputs": [
    {
     "name": "stdout",
     "output_type": "stream",
     "text": [
      "[1 2 3]\n"
     ]
    }
   ],
   "source": [
    "# NumPy is a python library used for working with arrays.\n",
    "\n",
    "# It also has functions for working in domain of linear algebra, fourier transform, and matrices.\n",
    "\n",
    "# NumPy was created in 2005 by Travis Oliphant. It is an open source project and you can use it freely.\n",
    "\n",
    "# NumPy stands for Numerical Python.\n",
    "\n",
    "\n",
    "## Why is NumPy Faster Than Lists?\n",
    "# NumPy arrays are stored at one continuous place in memory unlike lists, so processes can access and manipulate them very efficiently.\n",
    "\n",
    "# This behavior is called locality of reference in computer science.\n",
    "\n",
    "# This is the main reason why NumPy is faster than lists. Also it is optimized to work with latest CPU architectures.\n",
    "\n",
    "\n",
    "import numpy \n",
    "a= numpy.array([1,2,3])\n",
    "print (a)\n",
    "\n"
   ]
  },
  {
   "cell_type": "code",
   "execution_count": 5,
   "metadata": {},
   "outputs": [
    {
     "name": "stdout",
     "output_type": "stream",
     "text": [
      "[1 2 3 4 5 6]\n"
     ]
    }
   ],
   "source": [
    "import numpy as np\n",
    "a= np.array([1,2,3,4,5,6])\n",
    "print (a)"
   ]
  },
  {
   "cell_type": "code",
   "execution_count": 6,
   "metadata": {},
   "outputs": [
    {
     "name": "stdout",
     "output_type": "stream",
     "text": [
      "1.18.4\n"
     ]
    }
   ],
   "source": [
    "#printing the  Numpy version \n",
    "print (np.__version__)"
   ]
  },
  {
   "cell_type": "code",
   "execution_count": 7,
   "metadata": {},
   "outputs": [
    {
     "name": "stdout",
     "output_type": "stream",
     "text": [
      "[1 2 3]\n",
      "<class 'numpy.ndarray'>\n"
     ]
    }
   ],
   "source": [
    "#Creating the Numpy array and type()\n",
    "a=np.array([1,2,3])\n",
    "print (a)\n",
    "print (type(a))"
   ]
  },
  {
   "cell_type": "code",
   "execution_count": 9,
   "metadata": {},
   "outputs": [
    {
     "name": "stdout",
     "output_type": "stream",
     "text": [
      "[1 2 3 4 5 6]\n"
     ]
    }
   ],
   "source": [
    "#Array with the tuple\n",
    "a= np.array((1,2,3,4,5,6))\n",
    "print (a)"
   ]
  },
  {
   "cell_type": "code",
   "execution_count": 12,
   "metadata": {},
   "outputs": [
    {
     "name": "stdout",
     "output_type": "stream",
     "text": [
      "1\n",
      "0\n"
     ]
    }
   ],
   "source": [
    "## Diemntios of the Numpy array \n",
    "# 0D\n",
    "a= np.array(1)\n",
    "print (a)\n",
    "print (a.ndim)"
   ]
  },
  {
   "cell_type": "code",
   "execution_count": 13,
   "metadata": {},
   "outputs": [
    {
     "name": "stdout",
     "output_type": "stream",
     "text": [
      "[1]\n",
      "1\n"
     ]
    }
   ],
   "source": [
    "# Numpy 1D arrray\n",
    "a= np.array([1])\n",
    "print (a)\n",
    "print (a.ndim)"
   ]
  },
  {
   "cell_type": "code",
   "execution_count": 14,
   "metadata": {},
   "outputs": [
    {
     "name": "stdout",
     "output_type": "stream",
     "text": [
      "[[1 2 3]\n",
      " [4 5 6]]\n",
      "2\n"
     ]
    }
   ],
   "source": [
    "#Numpy 2D array\n",
    "a= np.array([[1,2,3], [4,5,6]])\n",
    "print (a)\n",
    "print (a.ndim)"
   ]
  },
  {
   "cell_type": "code",
   "execution_count": 15,
   "metadata": {},
   "outputs": [
    {
     "name": "stdout",
     "output_type": "stream",
     "text": [
      "[[[1 2 3]\n",
      "  [4 5 6]]\n",
      "\n",
      " [[7 8 9]\n",
      "  [7 4 4]]]\n",
      "3\n"
     ]
    }
   ],
   "source": [
    "#Numpy 3D array\n",
    "a= np.array([[[1,2,3],[4,5,6]], [[7,8,9],[7,4,4]]])\n",
    "print (a)\n",
    "print (a.ndim)"
   ]
  },
  {
   "cell_type": "code",
   "execution_count": 16,
   "metadata": {},
   "outputs": [
    {
     "name": "stdout",
     "output_type": "stream",
     "text": [
      "0\n",
      "1\n",
      "2\n",
      "3\n"
     ]
    }
   ],
   "source": [
    "#Numpy array dimention\n",
    "a= np.array(10)\n",
    "b= np.array([1,2,3,4,5,6])\n",
    "c= np.array([[1,2,3],[7,8,9]])\n",
    "d= np.array([[[1,2,3,4], [7,8,9,4]], [[7,8,9,4],[7,8,9,4]]])\n",
    "print (a.ndim)\n",
    "print (b.ndim)\n",
    "print (c.ndim)\n",
    "print (d.ndim)"
   ]
  },
  {
   "cell_type": "code",
   "execution_count": 18,
   "metadata": {},
   "outputs": [
    {
     "name": "stdout",
     "output_type": "stream",
     "text": [
      "[[[[[1]]]]]\n",
      "5\n"
     ]
    }
   ],
   "source": [
    "#You can define the dimention of tha array when you creat them using ndmin\n",
    "a= np.array([1], ndmin=5)\n",
    "print (a)\n",
    "print (a.ndim)"
   ]
  },
  {
   "cell_type": "code",
   "execution_count": 19,
   "metadata": {},
   "outputs": [
    {
     "name": "stdout",
     "output_type": "stream",
     "text": [
      "4\n"
     ]
    }
   ],
   "source": [
    "## Numpy array Indexing \n",
    "# In numpy each and evry elements have index staring from 0 just like list array\n",
    "a= np. array([1,2,3,4,5,6])\n",
    "print (a[3])\n"
   ]
  },
  {
   "cell_type": "code",
   "execution_count": 20,
   "metadata": {},
   "outputs": [
    {
     "name": "stdout",
     "output_type": "stream",
     "text": [
      "6\n"
     ]
    }
   ],
   "source": [
    "#Arithmatical opeation between array indexes\n",
    "a= np.array([1,2,3,4,5,6])\n",
    "print (a[0]+ a[4])"
   ]
  },
  {
   "cell_type": "code",
   "execution_count": 27,
   "metadata": {},
   "outputs": [
    {
     "name": "stdout",
     "output_type": "stream",
     "text": [
      "Array [1st raw, 2nd column]: 5\n"
     ]
    }
   ],
   "source": [
    "#Array indexing with the 2D array a[raw, column]\n",
    "\n",
    "a = np.array([[1,2,3,4,5,6], [7,8,9,4,5,6]])\n",
    "print (\"Array [1st raw, 2nd column]:\", a[1,4])"
   ]
  },
  {
   "cell_type": "code",
   "execution_count": 34,
   "metadata": {},
   "outputs": [
    {
     "name": "stdout",
     "output_type": "stream",
     "text": [
      "[[[1 2 3 4]\n",
      "  [7 8 9 4]]\n",
      "\n",
      " [[7 4 1 8]\n",
      "  [7 8 9 4]]]\n",
      "4\n"
     ]
    }
   ],
   "source": [
    "# Array indexing with the 3D array\n",
    "a = np.array([[[1,2,3,4], [7,8,9,4]], [[7,4,1,8], [7,8,9,4]]])\n",
    "print (a)\n",
    "print (a[1,1,3])\n",
    "\n",
    "# And this is why:\n",
    "\n",
    "# The first number represents the first dimension, which contains two arrays:\n",
    "# [[1, 2, 3,4], [7,8,9,4]],\n",
    "# and:\n",
    "# [[7,4,1,8],  [7,8,9,4]]\n",
    "# Since we selected 1, we are left with the first array:\n",
    "# [[7,4,1,8], [7,8,9,4]]\n",
    "\n",
    "# The second number represents the second dimension, which also contains two arrays:\n",
    "# [7,4,1,8]\n",
    "# and:\n",
    "# [7,8,9,4]\n",
    "# Since we selected 1, we are left with the second array:\n",
    "# [7,8,9,4]\n",
    "# and the element is 3 which is 4"
   ]
  },
  {
   "cell_type": "code",
   "execution_count": 36,
   "metadata": {},
   "outputs": [
    {
     "name": "stdout",
     "output_type": "stream",
     "text": [
      "[2 3 4]\n"
     ]
    }
   ],
   "source": [
    "## Array Slicing\n",
    "# Slicing means to print the array from start to end [start: end]\n",
    "import numpy as np\n",
    "a= np.array([1,2,3,4,5,6])\n",
    "print (a[1:4])"
   ]
  },
  {
   "cell_type": "code",
   "execution_count": 38,
   "metadata": {},
   "outputs": [
    {
     "name": "stdout",
     "output_type": "stream",
     "text": [
      "[3 4 5 6]\n",
      "[2 4 6 8]\n",
      "[6 7 8 9]\n",
      "[1 2 3 4 5]\n",
      "[1 3 5 7 9]\n"
     ]
    }
   ],
   "source": [
    "# Array slicing examplse \n",
    "a= np.array([1,2,3,4,5,6,7,8,9])\n",
    "print (a[2:6])\n",
    "print (a[1:9:2])  # [start: stop: jump]\n",
    "print (a[5:])\n",
    "print (a[:5])\n",
    "print (a[::2])"
   ]
  },
  {
   "cell_type": "code",
   "execution_count": 39,
   "metadata": {},
   "outputs": [
    {
     "name": "stdout",
     "output_type": "stream",
     "text": [
      "[8 9 4]\n"
     ]
    }
   ],
   "source": [
    "# Array  slicing with the \n",
    "import numpy as np\n",
    "a= np.array([[1,2,3,4,5,6], [7,8,9,4,5,6]])\n",
    "print (a[1, 1:4])   # 1st raw 1: 4\n"
   ]
  },
  {
   "cell_type": "code",
   "execution_count": 40,
   "metadata": {},
   "outputs": [
    {
     "name": "stdout",
     "output_type": "stream",
     "text": [
      "[3 9]\n"
     ]
    }
   ],
   "source": [
    "a= np.array([[1,2,3,4,5,6], [7,8,9,4,5,6]])\n",
    "print (a[0:2, 2])   # from the both of the raw 2nd elements"
   ]
  },
  {
   "cell_type": "code",
   "execution_count": 41,
   "metadata": {},
   "outputs": [
    {
     "name": "stdout",
     "output_type": "stream",
     "text": [
      "[[3 4]\n",
      " [9 4]]\n"
     ]
    }
   ],
   "source": [
    "a= np.array([[1,2,3,4,5,6], [7,8,9,4,5,6]])\n",
    "print (a[0:2, 2:4])   # from the both of the raw, display 2 to 4"
   ]
  },
  {
   "cell_type": "code",
   "execution_count": 1,
   "metadata": {},
   "outputs": [],
   "source": [
    "## Numpy datatype\n",
    "# By default Python have these data types:\n",
    "\n",
    "# strings - used to represent text data, the text is given under quote marks. eg. \"ABCD\"\n",
    "# integer - used to represent integer numbers. eg. -1, -2, -3\n",
    "# float - used to represent real numbers. eg. 1.2, 42.42\n",
    "# boolean - used to represent True or False.\n",
    "# complex - used to represent a number in complex plain. eg. 1.0 + 2.0j, 1.5 + 2.5j\n"
   ]
  },
  {
   "cell_type": "code",
   "execution_count": 12,
   "metadata": {},
   "outputs": [
    {
     "name": "stdout",
     "output_type": "stream",
     "text": [
      "[array([1, 2]), array([3, 4]), array([5, 6])]\n"
     ]
    }
   ],
   "source": [
    "## Numpy split \n",
    "# Numpy array splitting is the reverse of the concatinate \n",
    "import numpy as np\n",
    "a= np.array([1,2,3,4,5,6])\n",
    "a_new= np.array_split(a, 3)\n",
    "print (a_new)"
   ]
  },
  {
   "cell_type": "code",
   "execution_count": 11,
   "metadata": {},
   "outputs": [
    {
     "name": "stdout",
     "output_type": "stream",
     "text": [
      "[array([1, 2, 3]), array([4, 5]), array([6, 7]), array([8, 9])]\n"
     ]
    }
   ],
   "source": [
    "# Numpy array split \n",
    "a= np.array([1,2,3,4,5,6,7,8,9])\n",
    "a_new = np.array_split(a, 4)\n",
    "print (a_new)\n"
   ]
  },
  {
   "cell_type": "code",
   "execution_count": 15,
   "metadata": {},
   "outputs": [
    {
     "name": "stdout",
     "output_type": "stream",
     "text": [
      "[array([[ 1,  2,  3],\n",
      "       [ 7,  8, 90]]), array([[7, 4, 1]]), array([[8, 5, 2]])]\n"
     ]
    }
   ],
   "source": [
    "#2D array splitting \n",
    "a= np.array([[1,2,3], [7,8,90], [7,4,1], [8,5,2]])\n",
    "a_new= np.array_split(a,3)\n",
    "print (a_new)"
   ]
  },
  {
   "cell_type": "code",
   "execution_count": 16,
   "metadata": {},
   "outputs": [
    {
     "name": "stdout",
     "output_type": "stream",
     "text": [
      "[array([[[1, 2, 3],\n",
      "        [1, 7, 8]]]), array([[[7, 4, 1],\n",
      "        [8, 5, 2]]])]\n"
     ]
    }
   ],
   "source": [
    "# Numpy 3D array splitting \n",
    "a= np.array([[[1,2,3], [1,7,8]], [[7,4,1], [8,5,2]]])\n",
    "a_new= np.array_split(a,2)\n",
    "print (a_new)"
   ]
  },
  {
   "cell_type": "code",
   "execution_count": 18,
   "metadata": {},
   "outputs": [
    {
     "name": "stdout",
     "output_type": "stream",
     "text": [
      "[array([[1],\n",
      "       [4],\n",
      "       [7],\n",
      "       [8],\n",
      "       [6],\n",
      "       [5]]), array([[2],\n",
      "       [1],\n",
      "       [8],\n",
      "       [5],\n",
      "       [3],\n",
      "       [2]])]\n"
     ]
    }
   ],
   "source": [
    "# Numpy has an attribute for the horizontally split the array called \"hsplit\"\n",
    "# 1D array hsplit\n",
    "a= np.array([[1,2], [4,1], [7,8], [8,5], [6,3], [5,2]])\n",
    "a_new = np.hsplit(a,2)\n",
    "print (a_new)"
   ]
  },
  {
   "cell_type": "code",
   "execution_count": 20,
   "metadata": {},
   "outputs": [
    {
     "name": "stdout",
     "output_type": "stream",
     "text": [
      "[array([[[1, 2, 3]],\n",
      "\n",
      "       [[7, 8, 9]]]), array([[[7, 8, 9]],\n",
      "\n",
      "       [[7, 4, 1]]])]\n"
     ]
    }
   ],
   "source": [
    "#3D array hsplit\n",
    "a= np.array([[[1,2,3], [7,8,9]], [[7,8,9], [7,4,1]]])\n",
    "a_new= np.hsplit(a, 2)\n",
    "print (a_new)"
   ]
  },
  {
   "cell_type": "code",
   "execution_count": 26,
   "metadata": {},
   "outputs": [
    {
     "name": "stdout",
     "output_type": "stream",
     "text": [
      "[array([[1, 2],\n",
      "       [7, 8],\n",
      "       [7, 4]]), array([[8, 5],\n",
      "       [9, 6],\n",
      "       [8, 5]])]\n"
     ]
    }
   ],
   "source": [
    "# Numpy vsplit attributes\n",
    "a= np.array([[1,2], [7,8], [7,4], [8,5], [9,6], [8,5]])\n",
    "a_new= np.vsplit(a,2)\n",
    "print (a_new)"
   ]
  },
  {
   "cell_type": "code",
   "execution_count": 28,
   "metadata": {},
   "outputs": [
    {
     "name": "stdout",
     "output_type": "stream",
     "text": [
      "(array([4]),)\n"
     ]
    }
   ],
   "source": [
    "## Numpy array serching using where() attributes\n",
    "a= np.array([1,2,3,4,5,6,7,8,9])\n",
    "x= np.where(a==5)\n",
    "print (x)"
   ]
  },
  {
   "cell_type": "code",
   "execution_count": 29,
   "metadata": {},
   "outputs": [
    {
     "name": "stdout",
     "output_type": "stream",
     "text": [
      "(array([1, 3, 5, 7]),)\n"
     ]
    }
   ],
   "source": [
    "# Even number finding form the array (Note : that will return the location of the Even array elements)\n",
    "a= np.array([1,2,3,4,5,6,7,8,9])\n",
    "x= np.where(a%2==0)\n",
    "print(x)"
   ]
  },
  {
   "cell_type": "code",
   "execution_count": 30,
   "metadata": {},
   "outputs": [
    {
     "name": "stdout",
     "output_type": "stream",
     "text": [
      "(array([0, 2, 4, 6, 8]),)\n"
     ]
    }
   ],
   "source": [
    "# /numpy finding the odd number array position \n",
    "a= np.array([1,2,3,4,5,6,7,8,9])\n",
    "x= np.where(a%2==1)\n",
    "print (x)"
   ]
  },
  {
   "cell_type": "code",
   "execution_count": 31,
   "metadata": {},
   "outputs": [
    {
     "name": "stdout",
     "output_type": "stream",
     "text": [
      "4\n"
     ]
    }
   ],
   "source": [
    "# Numpy has \"Searchsorted\" attribute to serch the indexing of the array element \n",
    "a= np.array([1,2,3,4,5,6,7,8,9])\n",
    "x = np.searchsorted(a,5)\n",
    "print (x)"
   ]
  },
  {
   "cell_type": "code",
   "execution_count": 33,
   "metadata": {},
   "outputs": [
    {
     "name": "stdout",
     "output_type": "stream",
     "text": [
      "5\n"
     ]
    }
   ],
   "source": [
    "# Numpy serchsorted from the right side \n",
    "a= np.array([1,2,3,4,5,6,7,8,9])\n",
    "x= np.searchsorted(a, 5, side= 'right')\n",
    "print (x)"
   ]
  },
  {
   "cell_type": "code",
   "execution_count": 34,
   "metadata": {},
   "outputs": [
    {
     "name": "stdout",
     "output_type": "stream",
     "text": [
      "[-9  0  1  3  5  5  7  8]\n"
     ]
    }
   ],
   "source": [
    "## Numpy arary sorting \n",
    "a= np.array([7,5,3,1,-9,0,5,8])\n",
    "a_new= np.sort (a)\n",
    "print (a_new)"
   ]
  },
  {
   "cell_type": "code",
   "execution_count": 35,
   "metadata": {},
   "outputs": [
    {
     "name": "stdout",
     "output_type": "stream",
     "text": [
      "['Apple' 'Banana' 'Cat' 'Doc']\n"
     ]
    }
   ],
   "source": [
    "# Numpys rting array sorting \n",
    "a= np.array([\"Cat\", \"Doc\", \"Apple\", \"Banana\"])\n",
    "print (np.sort(a))"
   ]
  },
  {
   "cell_type": "code",
   "execution_count": 36,
   "metadata": {},
   "outputs": [
    {
     "name": "stdout",
     "output_type": "stream",
     "text": [
      "[[1 4 7]\n",
      " [2 5 8]]\n"
     ]
    }
   ],
   "source": [
    "# Numpy 2D array sorting\n",
    "a= np.array([[7,4,1], [8,5,2]])\n",
    "print (np.sort(a))"
   ]
  },
  {
   "cell_type": "code",
   "execution_count": 2,
   "metadata": {},
   "outputs": [
    {
     "name": "stdout",
     "output_type": "stream",
     "text": [
      "[1 2 3 5]\n"
     ]
    }
   ],
   "source": [
    "## Numpy array filter \n",
    "import numpy as np\n",
    "a= np.array([1,2,3,4,5,6])\n",
    "x= [True, True, True, False,True, False]\n",
    "print (a[x])"
   ]
  },
  {
   "cell_type": "code",
   "execution_count": 10,
   "metadata": {},
   "outputs": [
    {
     "name": "stdout",
     "output_type": "stream",
     "text": [
      "[2, 4, 6, 8]\n"
     ]
    }
   ],
   "source": [
    "# Numpy filtering even numbers \n",
    "a= np.array([1,2,3,4,5,6,7,8,9])\n",
    "even_number=[]\n",
    "for i in a:\n",
    "    if i%2==0:\n",
    "      even_number.append(i)\n",
    "    \n",
    "print (even_number)"
   ]
  },
  {
   "cell_type": "code",
   "execution_count": 11,
   "metadata": {},
   "outputs": [
    {
     "name": "stdout",
     "output_type": "stream",
     "text": [
      "85\n"
     ]
    }
   ],
   "source": [
    "## Numpy random library\n",
    "from numpy import random\n",
    "a= random.randint(100)\n",
    "print (a)"
   ]
  },
  {
   "cell_type": "code",
   "execution_count": 12,
   "metadata": {},
   "outputs": [
    {
     "name": "stdout",
     "output_type": "stream",
     "text": [
      "[17 48 43 49 10  1 84 12 20 72]\n"
     ]
    }
   ],
   "source": [
    "#Numpy random number for perticular size array from the limit\n",
    "\n",
    "from numpy import random \n",
    "a= random.randint(100, size=10)\n",
    "print (a)"
   ]
  },
  {
   "cell_type": "code",
   "execution_count": 14,
   "metadata": {},
   "outputs": [
    {
     "name": "stdout",
     "output_type": "stream",
     "text": [
      "[[39 41  7 81]\n",
      " [86 72 95 41]\n",
      " [89 40  1 14]]\n"
     ]
    }
   ],
   "source": [
    "# Numpy 2D array of the random number between range \n",
    "from numpy import random\n",
    "a= random.randint(100, size=(3,4))\n",
    "print (a)"
   ]
  },
  {
   "cell_type": "code",
   "execution_count": 15,
   "metadata": {},
   "outputs": [
    {
     "name": "stdout",
     "output_type": "stream",
     "text": [
      "0.8826978419012461\n"
     ]
    }
   ],
   "source": [
    "# float random number\n",
    "from numpy import random\n",
    "a= random.rand()\n",
    "print (a)"
   ]
  },
  {
   "cell_type": "code",
   "execution_count": 16,
   "metadata": {},
   "outputs": [
    {
     "name": "stdout",
     "output_type": "stream",
     "text": [
      "[0.87688534 0.8092257  0.6338828  0.11774989 0.01041293 0.27395906\n",
      " 0.01256424 0.82872192 0.38234929 0.1570516 ]\n"
     ]
    }
   ],
   "source": [
    "#Floar random number of the 10 array members\n",
    "from numpy import random\n",
    "a= random.rand(10)\n",
    "print (a)"
   ]
  },
  {
   "cell_type": "code",
   "execution_count": 17,
   "metadata": {},
   "outputs": [
    {
     "name": "stdout",
     "output_type": "stream",
     "text": [
      "[[0.03804317 0.64484196 0.98020227]\n",
      " [0.44104341 0.30222209 0.9919564 ]\n",
      " [0.5230096  0.55233811 0.20238348]]\n"
     ]
    }
   ],
   "source": [
    "#2D array of the float random number\n",
    "from numpy import random\n",
    "a= random.rand(3,3)\n",
    "print (a)"
   ]
  },
  {
   "cell_type": "code",
   "execution_count": null,
   "metadata": {},
   "outputs": [],
   "source": []
  }
 ],
 "metadata": {
  "kernelspec": {
   "display_name": "Python 3",
   "language": "python",
   "name": "python3"
  },
  "language_info": {
   "codemirror_mode": {
    "name": "ipython",
    "version": 3
   },
   "file_extension": ".py",
   "mimetype": "text/x-python",
   "name": "python",
   "nbconvert_exporter": "python",
   "pygments_lexer": "ipython3",
   "version": "3.6.9"
  }
 },
 "nbformat": 4,
 "nbformat_minor": 4
}
